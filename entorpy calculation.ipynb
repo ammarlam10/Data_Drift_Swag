{
 "cells": [
  {
   "cell_type": "code",
   "execution_count": null,
   "metadata": {
    "colab": {
     "base_uri": "https://localhost:8080/"
    },
    "executionInfo": {
     "elapsed": 2953,
     "status": "ok",
     "timestamp": 1649875129721,
     "user": {
      "displayName": "Muhammad Ammar Ahmed",
      "userId": "06626931976988068439"
     },
     "user_tz": -120
    },
    "id": "ME6UuvibZ7NM",
    "outputId": "e55267d6-70be-4169-922f-8309a5aaf79d"
   },
   "outputs": [],
   "source": [
    "!pip install gpytorch"
   ]
  },
  {
   "cell_type": "code",
   "execution_count": null,
   "metadata": {
    "executionInfo": {
     "elapsed": 2242,
     "status": "ok",
     "timestamp": 1649875131959,
     "user": {
      "displayName": "Muhammad Ammar Ahmed",
      "userId": "06626931976988068439"
     },
     "user_tz": -120
    },
    "id": "yn2fjTiaWpRO"
   },
   "outputs": [],
   "source": [
    "import argparse\n",
    "import torch\n",
    "import torch.nn.functional as F\n",
    "import numpy as np\n",
    "import os\n",
    "import tqdm\n"
   ]
  },
  {
   "cell_type": "code",
   "execution_count": null,
   "metadata": {},
   "outputs": [],
   "source": [
    "\n",
    "from swag import data, losses, models, utils\n",
    "from swag.posteriors import SWAG, KFACLaplace\n"
   ]
  },
  {
   "cell_type": "code",
   "execution_count": null,
   "metadata": {
    "executionInfo": {
     "elapsed": 687,
     "status": "ok",
     "timestamp": 1649875132643,
     "user": {
      "displayName": "Muhammad Ammar Ahmed",
      "userId": "06626931976988068439"
     },
     "user_tz": -120
    },
    "id": "_NyvY5nf458D"
   },
   "outputs": [],
   "source": [
    "import imageio\n",
    "import glob\n"
   ]
  },
  {
   "cell_type": "code",
   "execution_count": null,
   "metadata": {},
   "outputs": [],
   "source": [
    "from PIL import Image"
   ]
  },
  {
   "cell_type": "code",
   "execution_count": null,
   "metadata": {},
   "outputs": [],
   "source": [
    "from skimage.transform import rotate, AffineTransform, warp\n",
    "from sklearn.model_selection import train_test_split"
   ]
  },
  {
   "cell_type": "code",
   "execution_count": null,
   "metadata": {
    "executionInfo": {
     "elapsed": 3,
     "status": "ok",
     "timestamp": 1649875134509,
     "user": {
      "displayName": "Muhammad Ammar Ahmed",
      "userId": "06626931976988068439"
     },
     "user_tz": -120
    },
    "id": "6sJ-xVabZdYO"
   },
   "outputs": [],
   "source": [
    "# These parameters should be similar to what are used for training\n",
    "batch_size=16\n",
    "num_workers=4\n",
    "use_test=True\n",
    "# split_classes=None\n",
    "split_classes=1\n",
    "cov_mat=False\n",
    "swa=True\n",
    "max_num_models=20\n",
    "loss='CE'\n",
    "lr_init=0.1\n",
    "wd=3e-4 \n",
    "momentum=0.9\n",
    "start_epoch=0\n",
    "resume=None\n",
    "swa_resume=None\n",
    "epochs=10\n",
    "swa_start=161\n",
    "eval_freq=5\n",
    "no_schedule=False\n",
    "swa_lr=0.02\n",
    "save_freq = 2\n"
   ]
  },
  {
   "cell_type": "code",
   "execution_count": null,
   "metadata": {
    "executionInfo": {
     "elapsed": 3,
     "status": "ok",
     "timestamp": 1649875134509,
     "user": {
      "displayName": "Muhammad Ammar Ahmed",
      "userId": "06626931976988068439"
     },
     "user_tz": -120
    },
    "id": "PrMEB2SqcO_d"
   },
   "outputs": [],
   "source": [
    "file=r'./checkpoints/swag-20.pt'\n",
    "\n",
    "# dataset='CIFAR10'\n",
    "# data_path=r\"/content/drive/My Drive/swa_gaussian-master/data/cifar-10-batches-py\"\n",
    "use_test=False\n",
    "batch_size=16\n",
    "split_classes=1\n",
    "num_workers=4\n",
    "\n",
    "model='PreResNet56'\n",
    "method='SWAG'\n",
    "N=1\n",
    "scale=1.0\n",
    "cov_mat=True\n",
    "use_diag=True\n",
    "seed=1\n",
    "num_classes=2"
   ]
  },
  {
   "cell_type": "code",
   "execution_count": null,
   "metadata": {
    "executionInfo": {
     "elapsed": 2,
     "status": "ok",
     "timestamp": 1649875135185,
     "user": {
      "displayName": "Muhammad Ammar Ahmed",
      "userId": "06626931976988068439"
     },
     "user_tz": -120
    },
    "id": "Suv2QA49BoTc"
   },
   "outputs": [],
   "source": [
    "# Save entropies and accuracies\n",
    "save_path=r\"/content/drive/My Drive/swa_gaussian-master/data/output_out\"\n"
   ]
  },
  {
   "cell_type": "code",
   "execution_count": null,
   "metadata": {
    "executionInfo": {
     "elapsed": 1,
     "status": "ok",
     "timestamp": 1649875135701,
     "user": {
      "displayName": "Muhammad Ammar Ahmed",
      "userId": "06626931976988068439"
     },
     "user_tz": -120
    },
    "id": "2fSBRd5i4Pq1"
   },
   "outputs": [],
   "source": [
    "eps = 1e-12\n",
    "if  cov_mat:\n",
    "     cov_mat = True\n",
    "else:\n",
    "     cov_mat = False\n",
    "\n",
    "\n",
    "torch.backends.cudnn.benchmark = True\n",
    "torch.manual_seed( seed)\n",
    "torch.cuda.manual_seed( seed)\n"
   ]
  },
  {
   "cell_type": "code",
   "execution_count": null,
   "metadata": {
    "executionInfo": {
     "elapsed": 650,
     "status": "ok",
     "timestamp": 1649875140087,
     "user": {
      "displayName": "Muhammad Ammar Ahmed",
      "userId": "06626931976988068439"
     },
     "user_tz": -120
    },
    "id": "wVQlq0xZ4wNC"
   },
   "outputs": [],
   "source": [
    "def load_pngs():\n",
    "    good, bad = [], []\n",
    "    for im_path in glob.glob(\"./data/bottle/good/*.png\"):\n",
    "        im = Image.open(im_path)\n",
    "        good.append(im)\n",
    "    for im_path in glob.glob(\"./data/toothbrush/train/good/*.png\"):\n",
    "        im = Image.open(im_path)\n",
    "        bad.append(im)\n",
    "    return good, bad"
   ]
  },
  {
   "cell_type": "code",
   "execution_count": null,
   "metadata": {
    "executionInfo": {
     "elapsed": 2,
     "status": "ok",
     "timestamp": 1649875140812,
     "user": {
      "displayName": "Muhammad Ammar Ahmed",
      "userId": "06626931976988068439"
     },
     "user_tz": -120
    },
    "id": "-y9JydVf4P3E"
   },
   "outputs": [],
   "source": [
    "class MvTecDataset(torch.utils.data.Dataset):\n",
    "\n",
    "    def __init__(self, imgs, labels, transform):\n",
    "        # self.imgs = imgs.astype(np.float32)\n",
    "        self.imgs = imgs\n",
    "        self.labels = labels\n",
    "        self.transform = transform\n",
    "\n",
    "    def __len__(self):\n",
    "        return len(self.labels)\n",
    "\n",
    "    def __getitem__(self, idx):\n",
    "        return self.transform(self.imgs[idx]), self.labels[idx]"
   ]
  },
  {
   "cell_type": "code",
   "execution_count": null,
   "metadata": {
    "executionInfo": {
     "elapsed": 2,
     "status": "ok",
     "timestamp": 1649875142509,
     "user": {
      "displayName": "Muhammad Ammar Ahmed",
      "userId": "06626931976988068439"
     },
     "user_tz": -120
    },
    "id": "w5ciCysg4l2K"
   },
   "outputs": [],
   "source": [
    "good_imgs, bad_imgs = load_pngs()"
   ]
  },
  {
   "cell_type": "code",
   "execution_count": null,
   "metadata": {
    "executionInfo": {
     "elapsed": 2,
     "status": "ok",
     "timestamp": 1649875143234,
     "user": {
      "displayName": "Muhammad Ammar Ahmed",
      "userId": "06626931976988068439"
     },
     "user_tz": -120
    },
    "id": "wNo-xPRF4idN"
   },
   "outputs": [],
   "source": [
    "images = []\n",
    "labels = []\n",
    "for i in good_imgs:\n",
    "    images.append(i)\n",
    "    labels += [1] \n",
    "\n",
    "for i in bad_imgs:\n",
    "    images.append(i)\n",
    "    labels += [0]"
   ]
  },
  {
   "cell_type": "code",
   "execution_count": null,
   "metadata": {
    "executionInfo": {
     "elapsed": 2,
     "status": "ok",
     "timestamp": 1649875144361,
     "user": {
      "displayName": "Muhammad Ammar Ahmed",
      "userId": "06626931976988068439"
     },
     "user_tz": -120
    },
    "id": "-01zgS_XavYY"
   },
   "outputs": [],
   "source": [
    "\n",
    "def nll(outputs, labels):\n",
    "    labels = labels.astype(int)\n",
    "    idx = (np.arange(labels.size), labels)\n",
    "    ps = outputs[idx]\n",
    "    nll = -np.sum(np.log(ps))\n",
    "    return nll"
   ]
  },
  {
   "cell_type": "code",
   "execution_count": null,
   "metadata": {
    "colab": {
     "base_uri": "https://localhost:8080/"
    },
    "executionInfo": {
     "elapsed": 3,
     "status": "ok",
     "timestamp": 1649875147978,
     "user": {
      "displayName": "Muhammad Ammar Ahmed",
      "userId": "06626931976988068439"
     },
     "user_tz": -120
    },
    "id": "YZqGKF72avLC",
    "outputId": "5596f019-7ba9-4f56-fbf3-94295375fc65",
    "scrolled": true
   },
   "outputs": [],
   "source": [
    "print(\"Using model %s\" %  model)\n",
    "model_cfg = getattr(models,  model)\n",
    "\n"
   ]
  },
  {
   "cell_type": "code",
   "execution_count": null,
   "metadata": {
    "colab": {
     "base_uri": "https://localhost:8080/"
    },
    "executionInfo": {
     "elapsed": 17,
     "status": "ok",
     "timestamp": 1649874968188,
     "user": {
      "displayName": "Muhammad Ammar Ahmed",
      "userId": "06626931976988068439"
     },
     "user_tz": -120
    },
    "id": "MF2VwRCQciE2",
    "outputId": "0d3a2271-f733-4146-97bc-9de063d02561"
   },
   "outputs": [],
   "source": [
    "model_cfg"
   ]
  },
  {
   "cell_type": "code",
   "execution_count": null,
   "metadata": {
    "colab": {
     "base_uri": "https://localhost:8080/"
    },
    "executionInfo": {
     "elapsed": 578,
     "status": "ok",
     "timestamp": 1649875154833,
     "user": {
      "displayName": "Muhammad Ammar Ahmed",
      "userId": "06626931976988068439"
     },
     "user_tz": -120
    },
    "id": "1UCdKhGaavGv",
    "outputId": "a266f823-809f-4552-d319-957b05cef4a6"
   },
   "outputs": [],
   "source": [
    "print(\"Preparing model\")\n",
    "model = SWAG(\n",
    "        model_cfg.base,\n",
    "        no_cov_mat=not  cov_mat,\n",
    "        max_num_models=20,\n",
    "        *model_cfg.args,\n",
    "        num_classes=num_classes,\n",
    "        **model_cfg.kwargs\n",
    "    )\n",
    "\n"
   ]
  },
  {
   "cell_type": "code",
   "execution_count": null,
   "metadata": {
    "colab": {
     "base_uri": "https://localhost:8080/"
    },
    "executionInfo": {
     "elapsed": 669,
     "status": "ok",
     "timestamp": 1649875242816,
     "user": {
      "displayName": "Muhammad Ammar Ahmed",
      "userId": "06626931976988068439"
     },
     "user_tz": -120
    },
    "id": "-WJ1psF--PMf",
    "outputId": "62a962c2-98c5-40b9-bc7a-767a4b788542"
   },
   "outputs": [],
   "source": [
    "X_train, X_test, y_train, y_test = train_test_split(images, labels, test_size=0.145, shuffle=True)\n",
    "loaders = {\n",
    "    \"train\": torch.utils.data.DataLoader(MvTecDataset(X_train, y_train, model_cfg.transform_test), batch_size=batch_size, shuffle=True, drop_last=True),    \n",
    "    \"test\": torch.utils.data.DataLoader(MvTecDataset(X_test, y_test, model_cfg.transform_test), batch_size=batch_size, shuffle=True, drop_last=True)}\n",
    "\n",
    "print(len(X_train), len(X_test))"
   ]
  },
  {
   "cell_type": "code",
   "execution_count": null,
   "metadata": {
    "executionInfo": {
     "elapsed": 515,
     "status": "ok",
     "timestamp": 1649875247295,
     "user": {
      "displayName": "Muhammad Ammar Ahmed",
      "userId": "06626931976988068439"
     },
     "user_tz": -120
    },
    "id": "TNQRIVpWavCn"
   },
   "outputs": [],
   "source": [
    "def train_dropout(m):\n",
    "    if type(m) == torch.nn.modules.dropout.Dropout:\n",
    "        m.train()\n"
   ]
  },
  {
   "cell_type": "code",
   "execution_count": null,
   "metadata": {
    "colab": {
     "base_uri": "https://localhost:8080/",
     "height": 380
    },
    "executionInfo": {
     "elapsed": 1180,
     "status": "error",
     "timestamp": 1649875250351,
     "user": {
      "displayName": "Muhammad Ammar Ahmed",
      "userId": "06626931976988068439"
     },
     "user_tz": -120
    },
    "id": "FcG_4ne34AKL",
    "outputId": "17af0328-1b2d-4d08-ac8a-ebb535deb173"
   },
   "outputs": [],
   "source": [
    "print(\"Loading model %s\" %  file)\n",
    "checkpoint = torch.load( file)\n",
    "model.load_state_dict(checkpoint[\"state_dict\"])\n"
   ]
  },
  {
   "cell_type": "code",
   "execution_count": null,
   "metadata": {
    "colab": {
     "base_uri": "https://localhost:8080/"
    },
    "executionInfo": {
     "elapsed": 464,
     "status": "ok",
     "timestamp": 1649871640583,
     "user": {
      "displayName": "Muhammad Ammar Ahmed",
      "userId": "06626931976988068439"
     },
     "user_tz": -120
    },
    "id": "NZRXKuUwau9e",
    "outputId": "b478034d-2dc3-4528-dd87-470942d84139"
   },
   "outputs": [],
   "source": [
    "if  method == \"KFACLaplace\":\n",
    "    print(len(loaders[\"train\"].dataset))\n",
    "    model = KFACLaplace(\n",
    "        model, eps=5e-4, data_size=len(loaders[\"train\"].dataset)\n",
    "    )  # eps: weight_decay\n",
    "\n",
    "    t_input, t_target = next(iter(loaders[\"train\"]))\n",
    "    t_input, t_target = (\n",
    "        t_input.cuda(non_blocking=True),\n",
    "        t_target.cuda(non_blocking=True),\n",
    "    )\n",
    "\n",
    "if  method == \"HomoNoise\":\n",
    "    std = 0.01\n",
    "    for module, name in model.params:\n",
    "        mean = module.__getattr__(\"%s_mean\" % name)\n",
    "        module.__getattr__(\"%s_sq_mean\" % name).copy_(mean ** 2 + std ** 2)\n",
    "\n",
    "\n",
    "predictions = np.zeros((len(loaders[\"train\"].dataset), num_classes))\n",
    "targets = np.zeros(len(loaders[\"train\"].dataset))\n",
    "print(targets.size)"
   ]
  },
  {
   "cell_type": "code",
   "execution_count": null,
   "metadata": {
    "id": "UPeVyFNY6AXJ"
   },
   "outputs": [],
   "source": [
    "for i in loaders[\"train\"]:\n",
    "  print(i)\n",
    "  break"
   ]
  },
  {
   "cell_type": "code",
   "execution_count": null,
   "metadata": {
    "colab": {
     "base_uri": "https://localhost:8080/",
     "height": 200
    },
    "executionInfo": {
     "elapsed": 962,
     "status": "error",
     "timestamp": 1649870832652,
     "user": {
      "displayName": "Muhammad Ammar Ahmed",
      "userId": "06626931976988068439"
     },
     "user_tz": -120
    },
    "id": "7Pe82qC68uYN",
    "outputId": "7376e7a4-7dd1-47df-968a-7984f5808d22"
   },
   "outputs": [],
   "source": [
    "# predictions[k : k + input.size()[0]] += (\n",
    "#                 F.softmax(output, dim=1).cpu().numpy()\n",
    "#             )"
   ]
  },
  {
   "cell_type": "code",
   "execution_count": null,
   "metadata": {
    "colab": {
     "base_uri": "https://localhost:8080/"
    },
    "executionInfo": {
     "elapsed": 2212,
     "status": "ok",
     "timestamp": 1649871650994,
     "user": {
      "displayName": "Muhammad Ammar Ahmed",
      "userId": "06626931976988068439"
     },
     "user_tz": -120
    },
    "id": "lyMVU45p5sFS",
    "outputId": "fedc721f-3707-4079-926f-8f20f2830387"
   },
   "outputs": [],
   "source": [
    "\n",
    "for i in range( N):\n",
    "    print(\"%d/%d\" % (i + 1,  N))\n",
    "    if  method == \"KFACLaplace\":\n",
    "        ## KFAC Laplace needs one forwards pass to load the KFAC model at the beginning\n",
    "        model.net.load_state_dict(model.mean_state)\n",
    "\n",
    "        if i == 0:\n",
    "            model.net.train()\n",
    "\n",
    "            loss, _ = losses.cross_entropy(model.net, t_input, t_target)\n",
    "            loss.backward(create_graph=True)\n",
    "            model.step(update_params=False)\n",
    "\n",
    "    if  method not in [\"SGD\", \"Dropout\"]:\n",
    "        sample_with_cov =  cov_mat and not  use_diag\n",
    "        model.sample(scale= scale, cov=sample_with_cov)\n",
    "\n",
    "    if \"SWAG\" in  method:\n",
    "        utils.bn_update(loaders[\"train\"], model)\n",
    "\n",
    "    model.eval()\n",
    "    if  method in [\"Dropout\", \"SWAGDrop\"]:\n",
    "        model.apply(train_dropout)\n",
    "        # torch.manual_seed(i)\n",
    "        # utils.bn_update(loaders['train'], model)\n",
    "\n",
    "    k = 0\n",
    "    for input, target in tqdm.tqdm(loaders[\"train\"]):\n",
    "        input = input.cuda(non_blocking=True)\n",
    "        ##TODO: is this needed?\n",
    "        # if  method == 'Dropout':\n",
    "        #    model.apply(train_dropout)\n",
    "        torch.manual_seed(i)\n",
    "\n",
    "        if  method == \"KFACLaplace\":\n",
    "            output = model.net(input)\n",
    "        else:\n",
    "            output = model(input)\n",
    "\n",
    "        with torch.no_grad():\n",
    "            predictions[k : k + input.size()[0]] += (\n",
    "                F.softmax(output, dim=1).cpu().numpy()\n",
    "            )\n",
    "        targets[k : (k + target.size(0))] = target.numpy()\n",
    "        k += input.size()[0]\n",
    "\n",
    "    print(\"Accuracy:\", np.mean(np.argmax(predictions, axis=1) == targets))\n",
    "    #nll is sum over entire dataset\n",
    "    print(\"NLL:\", nll(predictions / (i + 1), targets))\n",
    "predictions /=  N\n",
    "\n",
    "entropies = -np.sum(np.log(predictions + eps) * predictions, axis=1)"
   ]
  },
  {
   "cell_type": "code",
   "execution_count": null,
   "metadata": {
    "id": "y4COhgyJau3_"
   },
   "outputs": [],
   "source": [
    "\n",
    "# for i in range( N):\n",
    "#     print(\"%d/%d\" % (i + 1,  N))\n",
    "#     if  method == \"KFACLaplace\":\n",
    "#         ## KFAC Laplace needs one forwards pass to load the KFAC model at the beginning\n",
    "#         model.net.load_state_dict(model.mean_state)\n",
    "\n",
    "#         if i == 0:\n",
    "#             model.net.train()\n",
    "\n",
    "#             loss, _ = losses.cross_entropy(model.net, t_input, t_target)\n",
    "#             loss.backward(create_graph=True)\n",
    "#             model.step(update_params=False)\n",
    "\n",
    "#     if  method not in [\"SGD\", \"Dropout\"]:\n",
    "#         sample_with_cov =  cov_mat and not  use_diag\n",
    "#         model.sample(scale= scale, cov=sample_with_cov)\n",
    "\n",
    "#     if \"SWAG\" in  method:\n",
    "#         utils.bn_update(loaders[\"train\"], model)\n",
    "\n",
    "#     model.eval()\n",
    "#     if  method in [\"Dropout\", \"SWAGDrop\"]:\n",
    "#         model.apply(train_dropout)\n",
    "#         # torch.manual_seed(i)\n",
    "#         # utils.bn_update(loaders['train'], model)\n",
    "\n",
    "#     k = 0\n",
    "#     for input, target in tqdm.tqdm(loaders[\"test\"]):\n",
    "#         input = input.cuda(non_blocking=True)\n",
    "#         ##TODO: is this needed?\n",
    "#         # if  method == 'Dropout':\n",
    "#         #    model.apply(train_dropout)\n",
    "#         torch.manual_seed(i)\n",
    "\n",
    "#         if  method == \"KFACLaplace\":\n",
    "#             output = model.net(input)\n",
    "#         else:\n",
    "#             output = model(input)\n",
    "\n",
    "#         with torch.no_grad():\n",
    "#             predictions[k : k + input.size()[0]] += (\n",
    "#                 F.softmax(output, dim=1).cpu().numpy()\n",
    "#             )\n",
    "#         targets[k : (k + target.size(0))] = target.numpy()\n",
    "#         k += input.size()[0]\n",
    "\n",
    "#     print(\"Accuracy:\", np.mean(np.argmax(predictions, axis=1) == targets))\n",
    "#     #nll is sum over entire dataset\n",
    "#     print(\"NLL:\", nll(predictions / (i + 1), targets))\n",
    "# predictions /=  N\n",
    "\n",
    "# entropies = -np.sum(np.log(predictions + eps) * predictions, axis=1)"
   ]
  },
  {
   "cell_type": "code",
   "execution_count": null,
   "metadata": {
    "executionInfo": {
     "elapsed": 638,
     "status": "ok",
     "timestamp": 1649871869432,
     "user": {
      "displayName": "Muhammad Ammar Ahmed",
      "userId": "06626931976988068439"
     },
     "user_tz": -120
    },
    "id": "dgbsNXoxauwN"
   },
   "outputs": [],
   "source": [
    "np.savez( save_path, entropies=entropies, predictions=predictions, targets=targets)"
   ]
  },
  {
   "cell_type": "code",
   "execution_count": null,
   "metadata": {
    "colab": {
     "base_uri": "https://localhost:8080/",
     "height": 35
    },
    "executionInfo": {
     "elapsed": 460,
     "status": "ok",
     "timestamp": 1649871680364,
     "user": {
      "displayName": "Muhammad Ammar Ahmed",
      "userId": "06626931976988068439"
     },
     "user_tz": -120
    },
    "id": "E8V66V62auqV",
    "outputId": "5e152144-d684-4b06-901a-f438c7464ddc"
   },
   "outputs": [],
   "source": [
    "save_path"
   ]
  },
  {
   "cell_type": "code",
   "execution_count": null,
   "metadata": {
    "colab": {
     "base_uri": "https://localhost:8080/"
    },
    "executionInfo": {
     "elapsed": 8,
     "status": "ok",
     "timestamp": 1649871914928,
     "user": {
      "displayName": "Muhammad Ammar Ahmed",
      "userId": "06626931976988068439"
     },
     "user_tz": -120
    },
    "id": "jHFIQNbpB1iP",
    "outputId": "c1accab5-ae25-4f1c-e3a6-b76218f55d8e"
   },
   "outputs": [],
   "source": [
    "predictions"
   ]
  },
  {
   "cell_type": "code",
   "execution_count": null,
   "metadata": {
    "colab": {
     "base_uri": "https://localhost:8080/"
    },
    "executionInfo": {
     "elapsed": 676,
     "status": "ok",
     "timestamp": 1649871671704,
     "user": {
      "displayName": "Muhammad Ammar Ahmed",
      "userId": "06626931976988068439"
     },
     "user_tz": -120
    },
    "id": "HKB5u_BpaujU",
    "outputId": "4908ce08-a212-4888-9613-b7436c3fbe59",
    "scrolled": true
   },
   "outputs": [],
   "source": [
    "entropies"
   ]
  }
 ],
 "metadata": {
  "accelerator": "GPU",
  "colab": {
   "authorship_tag": "ABX9TyNvL/p1thOrdWP5+wrP0AQj",
   "name": "entorpy_good.ipynb",
   "provenance": []
  },
  "kernelspec": {
   "display_name": "Python 3",
   "language": "python",
   "name": "python3"
  },
  "language_info": {
   "codemirror_mode": {
    "name": "ipython",
    "version": 3
   },
   "file_extension": ".py",
   "mimetype": "text/x-python",
   "name": "python",
   "nbconvert_exporter": "python",
   "pygments_lexer": "ipython3",
   "version": "3.8.5"
  }
 },
 "nbformat": 4,
 "nbformat_minor": 1
}
