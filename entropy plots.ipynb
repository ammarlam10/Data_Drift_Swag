{
 "cells": [
  {
   "cell_type": "code",
   "execution_count": 1,
   "metadata": {},
   "outputs": [],
   "source": [
    "import numpy as np\n",
    "import matplotlib.pyplot as plt"
   ]
  },
  {
   "cell_type": "code",
   "execution_count": 2,
   "metadata": {},
   "outputs": [],
   "source": [
    "from scipy.stats import entropy"
   ]
  },
  {
   "cell_type": "code",
   "execution_count": 3,
   "metadata": {},
   "outputs": [],
   "source": [
    "swag_inclass = np.load('./output_in.npz')\n",
    "swag_outclass = np.load('./output_out.npz')"
   ]
  },
  {
   "cell_type": "code",
   "execution_count": 29,
   "metadata": {},
   "outputs": [
    {
     "ename": "TypeError",
     "evalue": "'NpzFile' object does not support item assignment",
     "output_type": "error",
     "traceback": [
      "\u001b[1;31m---------------------------------------------------------------------------\u001b[0m",
      "\u001b[1;31mTypeError\u001b[0m                                 Traceback (most recent call last)",
      "\u001b[1;32m<ipython-input-29-6dcd48512ccb>\u001b[0m in \u001b[0;36m<module>\u001b[1;34m\u001b[0m\n\u001b[1;32m----> 1\u001b[1;33m \u001b[0mswag_inclass\u001b[0m\u001b[1;33m[\u001b[0m\u001b[1;34m'entropies'\u001b[0m\u001b[1;33m]\u001b[0m\u001b[1;33m=\u001b[0m \u001b[0mnp\u001b[0m\u001b[1;33m.\u001b[0m\u001b[0msort\u001b[0m\u001b[1;33m(\u001b[0m\u001b[0mswag_inclass\u001b[0m\u001b[1;33m[\u001b[0m\u001b[1;34m'entropies'\u001b[0m\u001b[1;33m]\u001b[0m\u001b[1;33m)\u001b[0m\u001b[1;33m[\u001b[0m\u001b[1;33m:\u001b[0m\u001b[1;33m-\u001b[0m\u001b[1;36m1\u001b[0m\u001b[1;33m]\u001b[0m\u001b[1;33m\u001b[0m\u001b[1;33m\u001b[0m\u001b[0m\n\u001b[0m",
      "\u001b[1;31mTypeError\u001b[0m: 'NpzFile' object does not support item assignment"
     ]
    }
   ],
   "source": [
    "swag_inclass['entropies']= np.sort(swag_inclass['entropies'])[:-1]"
   ]
  },
  {
   "cell_type": "code",
   "execution_count": 26,
   "metadata": {},
   "outputs": [
    {
     "data": {
      "text/plain": [
       "array([4.51385539e-06, 9.77640886e-06, 9.04693132e-03, 1.13711318e-02,\n",
       "       5.88800006e-06, 1.01986218e-02, 2.47711177e-02, 9.01698655e-06,\n",
       "       1.22915928e-05, 1.01266314e-02, 7.84314121e-06, 1.52016066e-06,\n",
       "       6.29171970e-06, 1.06890444e-02, 1.16022276e-05, 6.19612263e-06,\n",
       "       9.12061679e-03, 4.67344374e-06, 7.10328162e-06, 9.37882941e-06,\n",
       "       6.86038977e-05, 9.03156075e-06, 1.13203497e-02, 1.77393995e-02,\n",
       "       1.66821862e-02, 1.20266692e-02, 1.63611501e-01, 2.68834654e-06,\n",
       "       9.39324359e-03, 1.29899674e-02, 5.04502951e-06, 9.93237690e-03,\n",
       "       4.47203917e-06, 1.10062574e-02, 2.32528254e-02, 1.37937520e-02,\n",
       "       2.40399476e-05, 1.68199194e-02, 1.35538391e-02, 3.88142114e-05,\n",
       "       1.57671754e-05, 3.58283092e-06, 9.53685243e-03, 9.02472479e-03,\n",
       "       2.17549755e-02, 2.54347878e-06, 3.94829759e-02, 5.10763908e-06,\n",
       "       2.03163480e-02, 8.48612522e-07, 9.68610738e-03, 1.10852142e-02,\n",
       "       1.47369433e-02, 1.00972562e-02, 3.94895703e-05, 1.35144499e-05,\n",
       "       3.69057677e-05, 1.98648011e-02, 1.99699368e-02, 6.07298937e-06,\n",
       "       1.21787871e-05, 1.22695669e-02, 9.55876261e-06, 3.10464682e-06,\n",
       "       9.88273483e-07, 1.92122030e-02, 3.79862643e-07, 1.44797170e-06,\n",
       "       1.33021860e-02, 2.87002887e-02, 1.39022906e-06, 1.45097468e-02,\n",
       "       2.21885584e-02, 2.87264947e-05, 1.15990458e-05, 1.10709916e-05,\n",
       "       7.12874943e-06, 1.26657256e-05, 1.31427164e-02, 3.25364932e-06,\n",
       "       1.87668698e-02, 1.34384243e-02, 9.00621322e-03, 3.76291155e-06,\n",
       "       6.27775789e-06, 1.22331166e-02, 9.10222480e-06, 7.43447784e-05,\n",
       "       1.11282102e-02, 1.15754740e-02, 3.62582916e-06, 1.12089161e-02,\n",
       "       1.46096244e-02, 2.34005606e-06, 9.03437837e-03, 1.21652894e-02,\n",
       "       3.87502166e-02, 1.12569602e-02, 5.52671880e-06, 2.72390557e-02,\n",
       "       3.22479026e-06, 1.12646306e-02, 8.48393957e-03, 1.46249094e-05,\n",
       "       1.65515468e-02, 1.12315596e-02, 1.19438019e-02, 1.26783435e-02,\n",
       "       1.60117808e-05, 7.40090446e-06, 1.16614281e-06, 5.68067666e-05])"
      ]
     },
     "execution_count": 26,
     "metadata": {},
     "output_type": "execute_result"
    }
   ],
   "source": [
    "swag_inclass['entropies']"
   ]
  },
  {
   "cell_type": "code",
   "execution_count": 31,
   "metadata": {},
   "outputs": [
    {
     "data": {
      "text/plain": [
       "(array([55.,  0., 24., 15.,  6.,  6.,  2.,  1.,  0.,  2.]),\n",
       " array([3.79862643e-07, 3.94863946e-03, 7.89689906e-03, 1.18451587e-02,\n",
       "        1.57934183e-02, 1.97416779e-02, 2.36899375e-02, 2.76381971e-02,\n",
       "        3.15864567e-02, 3.55347163e-02, 3.94829759e-02]),\n",
       " <BarContainer object of 10 artists>)"
      ]
     },
     "execution_count": 31,
     "metadata": {},
     "output_type": "execute_result"
    },
    {
     "data": {
      "image/png": "[encoded data removed]",
      "text/plain": [
       "<Figure size 432x288 with 1 Axes>"
      ]
     },
     "metadata": {
      "needs_background": "light"
     },
     "output_type": "display_data"
    }
   ],
   "source": [
    "plt.hist(np.sort(swag_inclass['entropies'])[:-1], color='green')"
   ]
  },
  {
   "cell_type": "code",
   "execution_count": 32,
   "metadata": {},
   "outputs": [
    {
     "data": {
      "text/plain": [
       "(array([60.,  0.,  0., 12.,  3.,  0.,  0.,  8.,  6.,  2.]),\n",
       " array([0.        , 0.00905346, 0.01810693, 0.02716039, 0.03621386,\n",
       "        0.04526732, 0.05432079, 0.06337425, 0.07242772, 0.08148118,\n",
       "        0.09053465]),\n",
       " <BarContainer object of 10 artists>)"
      ]
     },
     "execution_count": 32,
     "metadata": {},
     "output_type": "execute_result"
    },
    {
     "data": {
      "image/png": "[encoded data removed]",
      "text/plain": [
       "<Figure size 432x288 with 1 Axes>"
      ]
     },
     "metadata": {
      "needs_background": "light"
     },
     "output_type": "display_data"
    }
   ],
   "source": [
    "plt.hist(np.sort(swag_outclass['entropies']), color='grey')"
   ]
  },
  {
   "cell_type": "code",
   "execution_count": 38,
   "metadata": {},
   "outputs": [
    {
     "data": {
      "text/plain": [
       "<matplotlib.legend.Legend at 0x1690598c8e0>"
      ]
     },
     "execution_count": 38,
     "metadata": {},
     "output_type": "execute_result"
    },
    {
     "data": {
      "image/png": "[encoded data removed]",
      "text/plain": [
       "<Figure size 576x720 with 1 Axes>"
      ]
     },
     "metadata": {
      "needs_background": "light"
     },
     "output_type": "display_data"
    }
   ],
   "source": [
    "plt.figure(figsize=(8,10))\n",
    "plt.hist(np.sort(swag_inclass['entropies']),label=\"inclass\", color = \"red\")\n",
    "plt.hist(swag_outclass['entropies'], alpha=0.3, label=\"outclass\", color = \"black\")\n",
    "plt.legend(loc=\"upper left\")\n"
   ]
  },
  {
   "cell_type": "code",
   "execution_count": 19,
   "metadata": {},
   "outputs": [
    {
     "data": {
      "text/plain": [
       "0.019224983948732784"
      ]
     },
     "execution_count": 19,
     "metadata": {},
     "output_type": "execute_result"
    }
   ],
   "source": [
    "swag_outclass['entropies'].mean()"
   ]
  },
  {
   "cell_type": "code",
   "execution_count": 20,
   "metadata": {},
   "outputs": [
    {
     "data": {
      "text/plain": [
       "0.008924773988902302"
      ]
     },
     "execution_count": 20,
     "metadata": {},
     "output_type": "execute_result"
    }
   ],
   "source": [
    "swag_inclass['entropies'].mean()"
   ]
  },
  {
   "cell_type": "code",
   "execution_count": 40,
   "metadata": {},
   "outputs": [],
   "source": [
    "def binned_kl_distance(dist1, dist2, smooth=1e-7, bins = np.logspace(-8, 0.5, num=30)):\n",
    "    dist1_pdf, _ = np.histogram(dist1, bins)\n",
    "    dist2_pdf, _ = np.histogram(dist2, bins)\n",
    "    \n",
    "    dist1_pdf = dist1_pdf + smooth\n",
    "    dist2_pdf = dist2_pdf + smooth\n",
    "    \n",
    "    dist1_pdf_normalized = dist1_pdf / dist1_pdf.sum()\n",
    "    dist2_pdf_normalized = dist2_pdf / dist2_pdf.sum()\n",
    "    \n",
    "    kldist = entropy(dist1_pdf_normalized, dist2_pdf_normalized) + entropy(dist2_pdf_normalized, dist1_pdf_normalized)\n",
    "    return kldist"
   ]
  },
  {
   "cell_type": "code",
   "execution_count": 41,
   "metadata": {},
   "outputs": [
    {
     "data": {
      "text/plain": [
       "33.78631041436573"
      ]
     },
     "execution_count": 41,
     "metadata": {},
     "output_type": "execute_result"
    }
   ],
   "source": [
    "binned_kl_distance(swag_inclass['entropies'], swag_outclass['entropies'])"
   ]
  },
  {
   "cell_type": "code",
   "execution_count": 48,
   "metadata": {},
   "outputs": [
    {
     "name": "stderr",
     "output_type": "stream",
     "text": [
      "C:\\Users\\Z0049YKN\\AppData\\Roaming\\Python\\Python38\\site-packages\\seaborn\\distributions.py:1657: FutureWarning: The `bw` parameter is deprecated in favor of `bw_method` and `bw_adjust`. Using 0.25 for `bw_method`, but please see the docs for the new parameters and update your code.\n",
      "  warnings.warn(msg, FutureWarning)\n",
      "C:\\Users\\Z0049YKN\\AppData\\Roaming\\Python\\Python38\\site-packages\\seaborn\\distributions.py:1657: FutureWarning: The `bw` parameter is deprecated in favor of `bw_method` and `bw_adjust`. Using 0.25 for `bw_method`, but please see the docs for the new parameters and update your code.\n",
      "  warnings.warn(msg, FutureWarning)\n"
     ]
    },
    {
     "data": {
      "text/plain": [
       "<AxesSubplot:ylabel='Density'>"
      ]
     },
     "execution_count": 48,
     "metadata": {},
     "output_type": "execute_result"
    },
    {
     "data": {
      "image/png": "[encoded data removed]",
      "text/plain": [
       "<Figure size 432x288 with 1 Axes>"
      ]
     },
     "metadata": {},
     "output_type": "display_data"
    }
   ],
   "source": [
    "import numpy as np\n",
    "import seaborn as sns\n",
    "sns.set_style('whitegrid')\n",
    "sns.kdeplot(swag_inclass['entropies'],shade=True, bw=0.25)\n",
    "sns.kdeplot(swag_outclass['entropies'],shade=True, bw=0.25)\n",
    "\n"
   ]
  },
  {
   "cell_type": "code",
   "execution_count": 49,
   "metadata": {},
   "outputs": [
    {
     "data": {
      "text/plain": [
       "(112,)"
      ]
     },
     "execution_count": 49,
     "metadata": {},
     "output_type": "execute_result"
    }
   ],
   "source": [
    "swag_inclass['entropies'].shape"
   ]
  },
  {
   "cell_type": "code",
   "execution_count": 50,
   "metadata": {},
   "outputs": [
    {
     "data": {
      "text/plain": [
       "(91,)"
      ]
     },
     "execution_count": 50,
     "metadata": {},
     "output_type": "execute_result"
    }
   ],
   "source": [
    "swag_outclass['entropies'].shape"
   ]
  },
  {
   "cell_type": "code",
   "execution_count": null,
   "metadata": {},
   "outputs": [],
   "source": []
  }
 ],
 "metadata": {
  "kernelspec": {
   "display_name": "Python 3",
   "language": "python",
   "name": "python3"
  },
  "language_info": {
   "codemirror_mode": {
    "name": "ipython",
    "version": 3
   },
   "file_extension": ".py",
   "mimetype": "text/x-python",
   "name": "python",
   "nbconvert_exporter": "python",
   "pygments_lexer": "ipython3",
   "version": "3.8.5"
  }
 },
 "nbformat": 4,
 "nbformat_minor": 2
}
